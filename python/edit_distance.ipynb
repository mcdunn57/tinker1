{
 "cells": [
  {
   "cell_type": "code",
   "execution_count": 69,
   "metadata": {
    "collapsed": true
   },
   "outputs": [],
   "source": [
    "import jellyfish\n",
    "import csv"
   ]
  },
  {
   "cell_type": "code",
   "execution_count": 4,
   "metadata": {
    "collapsed": false
   },
   "outputs": [
    {
     "data": {
      "text/plain": [
       "2"
      ]
     },
     "execution_count": 4,
     "metadata": {},
     "output_type": "execute_result"
    }
   ],
   "source": [
    "jellyfish.levenshtein_distance(u'jellyfish', u'smellyfish')"
   ]
  },
  {
   "cell_type": "code",
   "execution_count": 5,
   "metadata": {
    "collapsed": false
   },
   "outputs": [
    {
     "data": {
      "text/plain": [
       "0.8962962962962964"
      ]
     },
     "execution_count": 5,
     "metadata": {},
     "output_type": "execute_result"
    }
   ],
   "source": [
    "#jaro is 1-jaro, where 1 ~ same and 0 ~ \n",
    "jellyfish.jaro_distance(u'jellyfish', u'smellyfish')"
   ]
  },
  {
   "cell_type": "code",
   "execution_count": 6,
   "metadata": {
    "collapsed": false
   },
   "outputs": [
    {
     "data": {
      "text/plain": [
       "2"
      ]
     },
     "execution_count": 6,
     "metadata": {},
     "output_type": "execute_result"
    }
   ],
   "source": [
    "#https://en.wikipedia.org/wiki/Damerau%E2%80%93Levenshtein_distance; adds transposition of connected digits to allowable steps\n",
    "jellyfish.damerau_levenshtein_distance(u'jellyfish', u'smellyfish')"
   ]
  },
  {
   "cell_type": "code",
   "execution_count": 7,
   "metadata": {
    "collapsed": false
   },
   "outputs": [
    {
     "data": {
      "text/plain": [
       "1"
      ]
     },
     "execution_count": 7,
     "metadata": {},
     "output_type": "execute_result"
    }
   ],
   "source": [
    "jellyfish.damerau_levenshtein_distance(u'jellyfish', u'ejllyfish')"
   ]
  },
  {
   "cell_type": "code",
   "execution_count": 8,
   "metadata": {
    "collapsed": false
   },
   "outputs": [
    {
     "data": {
      "text/plain": [
       "2"
      ]
     },
     "execution_count": 8,
     "metadata": {},
     "output_type": "execute_result"
    }
   ],
   "source": [
    "jellyfish.levenshtein_distance(u'jellyfish', u'ejllyfish')"
   ]
  },
  {
   "cell_type": "code",
   "execution_count": null,
   "metadata": {
    "collapsed": true
   },
   "outputs": [],
   "source": []
  },
  {
   "cell_type": "code",
   "execution_count": 19,
   "metadata": {
    "collapsed": false
   },
   "outputs": [
    {
     "name": "stdout",
     "output_type": "stream",
     "text": [
      "[['hose', 'jose', '1', '1', '0.8333333333333334', '0.25', '0.25'], ['clark', 'clarke', '1', '1', '0.9444444444444445', '0.16666666666666666', '0.16666666666666666'], ['dark', 'moat', '4', '4', '0.5', '1.0', '1.0'], ['p12345', 'p12234', '2', '2', '0.888888888888889', '0.3333333333333333', '0.3333333333333333']]\n"
     ]
    }
   ],
   "source": [
    "#normalized dld done from this refs: \n",
    "#https://stackoverflow.com/questions/15612475/two-whole-texts-similarity-using-levenshtein-distance\n",
    "#https://www.xavierdupre.fr/site2013/documents/reports/edit_distance_normalization.pdf\n",
    "\n",
    "with open ('strings.csv', 'r') as f:\n",
    "    file=[]\n",
    "    reader=csv.reader(f)\n",
    "    next(reader)\n",
    "    for row in reader:\n",
    "        a=row[0]\n",
    "        b=row[1]\n",
    "        c=[a,b]\n",
    "        mLen = max(c,key=len)\n",
    "        mLen_cnt=len(mLen)\n",
    "        dld=str(jellyfish.damerau_levenshtein_distance(a,b))\n",
    "        ld=str(jellyfish.levenshtein_distance(a,b))\n",
    "        jd=str(jellyfish.jaro_distance(a,b))\n",
    "        norm_dld=str(jellyfish.damerau_levenshtein_distance(a,b)/(mLen_cnt))\n",
    "        norm_ld=str(jellyfish.damerau_levenshtein_distance(a,b)/(mLen_cnt))\n",
    "        row.append(dld)\n",
    "        row.append(ld)\n",
    "        row.append(jd)\n",
    "        row.append(norm_dld)\n",
    "        row.append(norm_ld)\n",
    "        file.append(row)\n",
    "print(file)"
   ]
  },
  {
   "cell_type": "code",
   "execution_count": 23,
   "metadata": {
    "collapsed": false
   },
   "outputs": [],
   "source": [
    "#https://www.nesono.com/node/414\n",
    "#assumes header in read file\n",
    "\n",
    "def testEditDist (infile,outfile):\n",
    "    import jellyfish\n",
    "    import csv\n",
    "    with open (infile, 'r') as f:\n",
    "        file=[]\n",
    "        reader=csv.reader(f)\n",
    "        next(reader)\n",
    "        for row in reader:\n",
    "            a=row[0]\n",
    "            b=row[1]\n",
    "            c=[a,b]\n",
    "            mLen = max(c,key=len)\n",
    "            mLen_cnt=len(mLen)\n",
    "            dld=str(jellyfish.damerau_levenshtein_distance(a,b))\n",
    "            ld=str(jellyfish.levenshtein_distance(a,b))\n",
    "            jd=str(jellyfish.jaro_distance(a,b))\n",
    "            norm_dld=str(jellyfish.damerau_levenshtein_distance(a,b)/(mLen_cnt))\n",
    "            norm_ld=str(jellyfish.damerau_levenshtein_distance(a,b)/(mLen_cnt))\n",
    "            row.append(dld)\n",
    "            row.append(ld)\n",
    "            row.append(jd)\n",
    "            row.append(norm_dld)\n",
    "            row.append(norm_ld)\n",
    "            file.append(row)\n",
    "\n",
    "    header = [\"String1\", \"String2\", \"DL_dist\",\"L_dist\",\"Jaro_Dist\",\"normalized_DL\",\"normalized_L\"]\n",
    "    newoutfile =  open(outfile, 'w')\n",
    "    writer = csv.writer(newoutfile)\n",
    "    writer.writerow(header)\n",
    "    [writer.writerow(line) for line in file]\n",
    "    f.close()\n",
    "    newoutfile.close()"
   ]
  },
  {
   "cell_type": "code",
   "execution_count": 24,
   "metadata": {
    "collapsed": false
   },
   "outputs": [],
   "source": [
    "testEditDist('strings.csv','strings2.csv')"
   ]
  },
  {
   "cell_type": "code",
   "execution_count": null,
   "metadata": {
    "collapsed": true
   },
   "outputs": [],
   "source": []
  }
 ],
 "metadata": {
  "kernelspec": {
   "display_name": "Python 3",
   "language": "python",
   "name": "python3"
  },
  "language_info": {
   "codemirror_mode": {
    "name": "ipython",
    "version": 3
   },
   "file_extension": ".py",
   "mimetype": "text/x-python",
   "name": "python",
   "nbconvert_exporter": "python",
   "pygments_lexer": "ipython3",
   "version": "3.6.0"
  }
 },
 "nbformat": 4,
 "nbformat_minor": 0
}
